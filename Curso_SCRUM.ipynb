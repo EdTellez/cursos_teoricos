{
 "cells": [
  {
   "cell_type": "markdown",
   "metadata": {},
   "source": [
    "# SCRUM"
   ]
  },
  {
   "cell_type": "markdown",
   "metadata": {},
   "source": [
    "### Antes de hablar de SCRUM, debemos saber que es parte de algo más grande, llamado:\n",
    "<ul>\n",
    "    <li><h3> Metodologías ágiles ó Marcos de desarrollo Agile.</h3></li>\n",
    "</ul>\n",
    "\n",
    "---"
   ]
  },
  {
   "cell_type": "markdown",
   "metadata": {},
   "source": [
    "## Entonces...\n",
    "<div class=\"alert alert-block alert-danger\">\n",
    "    <h1> <b>¿Qué es Agile?</b></h1>\n",
    "</div>\n",
    "\n",
    "> - Habilidad para crear productos y responder al cambio propio del mismo.\n",
    "> - Conjunto de marcos de trabajo y metodologías:\n",
    "> > 1. Kanban (Marco)\n",
    "> > 2. Extreme Programming  (Marco)\n",
    "> > 3. SCRUM (Marco)\n",
    "> > 4. Pair to pair programming (Metodología)\n",
    "> > 5. TDD - Test Driven Development (Metodología)\n",
    "\n",
    "> - Está centrado en las personas y como trabajan y colaboran entre sí.\n",
    "A los que trabajan en el equipo de desarrollo y al cliente."
   ]
  },
  {
   "cell_type": "markdown",
   "metadata": {},
   "source": [
    "### Se basa en una mentalidad, basada en un 'Manifiesto Agile', el cual comienza con:\n",
    "\n",
    "> \"Estamos descubriendo formas mejores de desarrollar software tanto por nuestra propia experiencia como ayudando a terceros.\""
   ]
  },
  {
   "cell_type": "markdown",
   "metadata": {},
   "source": [
    "### Las diferencias más notorias entre las metodologías ágiles y las tradicionales, se observan en:\n",
    "> - **Grupos de trabajo.** Agile propone equipos pequeños de trabajo con tiempos cortos de desarrollo, para iterar sobre el producto final.\n",
    "> - **Requerimientos.** Se recomienda que se acorte en listas pequeñas, que se trabajan durante las iteraciones (2 semanas).\n",
    "> - **Generación de valor.** Recomienda que al término de las 2 semanas se entregue el objetivo trabajado, así se aprecia el progreso gradualmente."
   ]
  },
  {
   "cell_type": "markdown",
   "metadata": {},
   "source": [
    "### Cuatro elementos **muy** importantes:\n",
    "\n",
    ">- **Individuos e interacciones** sobre procesos y herramientas\n",
    ">- **Software funcionando** sobre documentación extensiva\n",
    ">- **Colaboración con el cliente** sobre negociación contractual\n",
    ">- **Respuesta ante el cambio** sobre seguir un plan"
   ]
  },
  {
   "cell_type": "markdown",
   "metadata": {},
   "source": [
    "<div class=\"alert alert-block alert-info\">\n",
    "    <h3> <b>Los 12 principios de Agile: </b></h3>\n",
    "</div>\n",
    "\n",
    "> **1. _Satisfacción al cliente._** Entregas tempranas y continuas de software con valor.\n",
    "\n",
    "> **2. _Cambios._** Son bienvenidos en cualquier etapa del proyecto, nos debemos adaptar.\n",
    "\n",
    "> **3. _Software funcional._** Se entrega frecuentemente en períodos cortos de tiempo.\n",
    "\n",
    "> **4. _Colaboración._** Cliente y desarrolladores trabajan juntos.\n",
    "\n",
    "> **5. _Individuos motivados._** Dar un buen entorno y confianza al equipo de desarrollo para la toma de sus decisiones.\n",
    "\n",
    "> **6. _Comunicación cara a cara._** Es la más eficiente y efectiva de comunicación con el equipo y el cliente, se puede evaluar lenguaje corporal.\n",
    "\n",
    "> **7. _Progreso._** La medida principal de progreso es el _software funcionando._\n",
    "\n",
    "> **8. _Desarrollo sostenible._** El ritmo de desarrollo dbe ser constante.\n",
    "\n",
    "> **9. _Mejora continua._** A través de excelencia técnica y buen diseño.\n",
    "\n",
    "> **10. _Simplicidad._** El arte de maximizar la cantidad de trabajo no realizado es esencial.\n",
    "\n",
    "> **11. _Autoorganización._** El mejor trabajo emerge de equipos autoorganizados.\n",
    "\n",
    "> **12. _Autoevaluación._** El equipo es capaz de ajustar y perfeccionar su comportamiento."
   ]
  },
  {
   "cell_type": "markdown",
   "metadata": {},
   "source": [
    "---"
   ]
  },
  {
   "cell_type": "markdown",
   "metadata": {},
   "source": [
    "## Regresemos al tema que nos interesa...\n",
    "\n",
    "<div class=\"alert alert-block alert-danger\">\n",
    "    <h1> <b>¿Qué es Scrum? </b></h1>\n",
    "</div>"
   ]
  },
  {
   "cell_type": "markdown",
   "metadata": {},
   "source": [
    "## Momento donde todo el equipo colabora para alcanzar un objetivo.\n",
    "\n",
    "- ### Marco de trabajo donde se pueden abordar problemas complejos adaptativos a la vez que se entregan productos de maximo valor posible y creativamente.\n",
    "- ### Se puede plantear cualquier tipo de problema. Flexible para proyectos grandes o pequeños.\n",
    "- ### Entrega valor lo más rapido posible"
   ]
  },
  {
   "cell_type": "markdown",
   "metadata": {},
   "source": [
    "<div class=\"alert alert-block alert-info\">\n",
    "    <h2> <b>Esencia:</b></h2>\n",
    "</div>\n",
    "\n",
    "> a) Equipo pequeño de personas.\n",
    "\n",
    "> b) Equipo altamente flexible y adaptativo."
   ]
  },
  {
   "cell_type": "markdown",
   "metadata": {},
   "source": [
    "<div class=\"alert alert-block alert-info\">\n",
    "    <h2> <b>Teoría de Scrum:</b></h2>\n",
    "</div>\n",
    "\n",
    "> ### Se basa en empirismo, en la experiencia, para tomar decisiones se basa en lo que ya se conoce"
   ]
  },
  {
   "cell_type": "markdown",
   "metadata": {},
   "source": [
    "<div class=\"alert alert-block alert-info\">\n",
    "    <h2> <b>Pilares de Scrum:</b></h2>\n",
    "</div>\n",
    "\n",
    "> **a) Transparencia.** A traves de la comunicación, cualquier persona puede saber el estado actual del proyecto <br>\n",
    "\n",
    "> **b) Inspección.** Toda persona puede observar los artefactos (requerimientos) y validar si están bien definidos o no, en cualquier parte del proceso <br>\n",
    "\n",
    "> **c) Adaptación.** Cualquier involucrado en el proceso puede reconocer cambios e implementarlos rápidamente"
   ]
  },
  {
   "cell_type": "markdown",
   "metadata": {},
   "source": [
    "<div class=\"alert alert-block alert-info\">\n",
    "    <h2> <b>Valores de Scrum:</b></h2>\n",
    "</div>\n",
    "\n",
    "> **i) Compromiso.** Todos los miembros se enfocarán en cumplir los objetivos establecidos en cada iteración.\n",
    "\n",
    "> **ii) Coraje.** Cualquier miembro en el equipo puede realizar cualquier tarea planteada en la iteración.\n",
    "\n",
    "> **iii) Respeto.** Apertura a la diferencia de puntos de vista.\n",
    "\n",
    "> **iv) Enfoque.** Todos los miembros del equipo están comprometidos a cumplir el objetivo acual.\n",
    "\n",
    "> **v) Apertura.** Abiertos a escuchar a cualquier persona relacionada en el proceso."
   ]
  },
  {
   "cell_type": "markdown",
   "metadata": {},
   "source": [
    "<div class=\"alert alert-block alert-danger\">\n",
    "    <h1> <b>Componentes de SCRUM</b></h1>\n",
    "</div>"
   ]
  },
  {
   "cell_type": "markdown",
   "metadata": {},
   "source": [
    "<div class=\"alert alert-block alert-info\">\n",
    "    <h2> <b>1. El Equipo Scrum</b></h2>\n",
    "</div>\n",
    "\n",
    "- ### Debe ser autoorganizado y multifuncional.\n",
    "\n",
    "## Los roles dentro del equipo son:\n",
    "\n",
    "- ### Product Owner.\n",
    "Maximiza el valor del producto y es la cara del cliente dentro del equipo SCRUM\n",
    "\n",
    "- ### Scrum Master.\n",
    "Responsable de promover y apoyar Scrum, nadie sabe más de Scrum que él.\n",
    "\n",
    "- ### Equipo de Desarrollo.\n",
    "Profesionales que realizan el trabajo para entregar un incremento de producto \"terminado\"."
   ]
  },
  {
   "cell_type": "markdown",
   "metadata": {},
   "source": [
    "<div class=\"alert alert-block alert-info\">\n",
    "    <h2> <b>2. Eventos de Scrum</b></h2>\n",
    "</div>\n",
    "\n",
    "Se hacen con el fin de crear regularidad y minimizar la necesidad de reuniones no definidas en Scrum."
   ]
  },
  {
   "cell_type": "markdown",
   "metadata": {},
   "source": [
    "- ### Sprint.\n",
    "Es el corazón de Scrum, donde se crea un incremento del producto.\n",
    "Es cada iteración donde el equipo trabajará sobre ciertos objetivos.\n",
    "\n",
    "> **i) _Planificación del Sprint._** Ceremonia al inicio de cada sprint, para definir que se hará durante el mismo.\n",
    "\n",
    "> **ii) _Daily Stand-up o Scrum diario._** Reunión diaria de todo el equipo de desarrollo, donde se habla sobre el avance.\n",
    "\n",
    "> **iii) Sprint review o Revisión de Sprint._** Se muestra el incremento desarrollado durante el sprint.\n",
    "\n",
    "> **iv) Sprint retrospective o retrospectiva de sprint._** El equipo se autoevalúa y define en donde se puede mejorar."
   ]
  },
  {
   "cell_type": "markdown",
   "metadata": {},
   "source": [
    "<div class=\"alert alert-block alert-info\">\n",
    "    <h2> <b>3. Artefactos de Scrum</b></h2>\n",
    "</div>\n",
    "\n",
    "### Representan el trabajo o valor en diversas formas, son útiles para proporcionar transparencia y oportunidades par la inspección y adaptación.\n",
    "\n",
    "- #### Definen en qué consiste el producto y que es lo que quiere el cliente.\n",
    "\n",
    "- #### Son visibles para todos los que se involucren en el proyecto (Product Owner, Scrum Master, Directivos, Cliente, Usuario Final)\n"
   ]
  },
  {
   "cell_type": "markdown",
   "metadata": {},
   "source": [
    "> - **_Lista del Producto (Product Backlog)._** <br>\n",
    "Lista ordenada de todo lo que se conoce que es necesario en el producto.\n",
    "\n",
    "> - **_Lista de Pendientes del Sprint (Sprint Backlog)._** <br>\n",
    "Son los elementos de la lista del producto seleccionados para el Sprint."
   ]
  },
  {
   "cell_type": "markdown",
   "metadata": {},
   "source": [
    "---\n",
    "---"
   ]
  },
  {
   "cell_type": "markdown",
   "metadata": {},
   "source": [
    "<div class=\"alert alert-block alert-info\">\n",
    "    <h2><b>1. Sobre el equipo SCRUM.</b></h2>\n",
    "</div>\n",
    "\n",
    "Está diseñado para **optimizar la flexibilidad, creatividad y productividad.**\n",
    "Pueden ser organizados con base en funcionalidades o componentes.\n",
    "\n",
    "> i)   Arma un equipo con los perfiles profesionales que necesitas para desarrollar el proyecto.\n",
    "\n",
    "> ii)  Conforma un equipo de 3 - 9 personas, pequeño y flexible.\n",
    "\n",
    "> iii) Asegura de tener todos los roles de SCRUM (Product Owner, SCRUM Master, Dev Team)\n",
    "\n",
    "> iv)  Manten sesiones diarias de máximo 15 minutos con un objetivo específico.\n",
    "\n",
    "> v) Evita al máximo la dependencia a agentes externos."
   ]
  },
  {
   "cell_type": "markdown",
   "metadata": {},
   "source": [
    "<div class=\"alert alert-block alert-success\">\n",
    "    <h2>Product Owner</h2>\n",
    "</div>\n",
    "\n",
    "### Es aquel que:\n",
    "\n",
    "> - Se sienta con el cliente y entiende de la mejor manera sus requerimientos y el producto que busca, ya que lo representa frente al Equipo Scrum.\n",
    "> - Responsable de **maximizar el valor del producto** resultante.<br>\n",
    "> - Única persona responsable de gestionar la **_Lista del producto_**.\n",
    "Si se quiere introducir un cambio, se debe negociar con él.\n",
    "\n",
    "**Nadie puede forzar al Equipo de Desarrollo a que trabaje con base en un conjunto diferente de requisitos.**\n",
    "\n",
    "### Responsabilidades:\n",
    "> * Expresar claramente los elementos de la Lista del Producto.<br>\n",
    "> * Dar prioridad a los elementos de la lista del producto.<br>\n",
    "> * Optimizar el valor del trabajo del equipo de desarrollo.\n",
    "\n",
    "### Asegura:\n",
    "> * Lista del Producto **visible, transparente y clara.**\n",
    "> * Que el Equipo de Desarrollo conoce los elementos de la _Lista del Producto_\n",
    "<br>\n",
    "\n",
    "### Las decisiones del Product Owner se reflejan en el contenido y priorización de la Lista el Producto.\n",
    "---"
   ]
  },
  {
   "cell_type": "markdown",
   "metadata": {},
   "source": [
    "<div class=\"alert alert-block alert-success\">\n",
    "    <h2>Scrum Master</h2>\n",
    "</div>\n",
    "\n",
    "### Es aquel que:\n",
    "\n",
    "> - Es un **lider** al servicio del Equipo Scrum. <br>\n",
    "> - Es responsable de promover y apoyar Scrum, ayudando a todos a entender la **teoría, prácticas y valores** de Scrum. <br>\n",
    "> - Está en el día a día del proceso, asegurandose que sea un proceso fluido y que pueda avanzar. <br>\n",
    "> - Ayuda a personas externas al equipo, a entender qué interacciones con el Equipo Scrum pueden ser útiles y cuales no.\n",
    "\n",
    "### Ayudando al Product Owner:\n",
    "> - Asegura que los objetivos, el alcance y dominio sean entendidos por todo el equipo de la mejor manera posible.\n",
    "> - Entender y practicar la agilidad, *da el ejemplo.*\n",
    "> - Facilitar los eleventos de Scrum:\n",
    "> > - Planeación de fechas\n",
    "> > - Planeación de recursos\n",
    "\n",
    "### Ayudando al Equipo de Desarrollo:\n",
    "> - Guía al Equipo de Desarrollo en ser autoorganizado y multifuncional. Otorgar liderazgo o proponer soluciones.\n",
    "> - Ayudar al Equipo de Desarrollo a crear productos de alto valor.\n",
    "> - Elimina impedimentos para el progreso del Equipo de Desarrollo.\n",
    "\n",
    "### Ayudando a la Organización:\n",
    "> - Lidera y guía a la organización en la adopción de Scrum.\n",
    ">> No toda la organización trabajará bajo Scrum, pero sí debe entender que el Equipo de Desarrollo de software usa Scrum y qué significa esto.\n",
    "> - Trabaja con otros Scrum Masters para incrementar la efectividad de la aplicación de Scrum, compartiendo prácticas para mejorar el proceso.\n",
    "---"
   ]
  },
  {
   "cell_type": "markdown",
   "metadata": {},
   "source": [
    "<div class=\"alert alert-block alert-success\">\n",
    "    <h2>Equipo de desarrollo.</h2>\n",
    "</div>\n",
    "\n",
    "### Aquellos que:\n",
    "> - Se encargan de desarrollar el producto.\n",
    "> - Profesionales que entregan un incremento de producto \"terminado\", que potencialmente se pueda poner en producción al final de cada Sprint.\n",
    "\n",
    "#### La organización debe encargarse de estructurar y empoderar al Equipo de desarrollo, para que estos organicen y gestionen su propio trabajo.\n",
    "\n",
    "### Características:\n",
    "> - Autoorganizados\n",
    "> - Multifuncionales\n",
    "> - No tienen títulos\n",
    "> - No hay subequipos.\n",
    "> - Sólo se puede _modificar al terminar_ el Sprint.\n",
    "\n",
    "### Tamaño óptimo:\n",
    "> El tamaño óptimo **no es un número**, no debes tomar en cuenta al Product Owner y el Scrum Master, a menos de que sean parte activa del equipo de desarrollo.\n",
    "- **Debe ser lo suficientemente pequeño como para permanecer ágil y lo suficientemente grande para completar una cantidad de trabajo significativa.**\n",
    "\n",
    "Aún así, lo más recomendado es de 3 - 9 personas.\n",
    "\n",
    "---"
   ]
  },
  {
   "cell_type": "markdown",
   "metadata": {},
   "source": [
    "<div class=\"alert alert-block alert-info\">\n",
    "    <h2><b>2. Sobre los artefactos de Scrum.</b></h2>\n",
    "</div>"
   ]
  },
  {
   "cell_type": "markdown",
   "metadata": {},
   "source": [
    "<div class=\"alert alert-block alert-success\">\n",
    "    <h2> <b>Épicas y Backlog del producto.</b></h2>\n",
    "</div>\n",
    "\n",
    "### La Lista del Producto es:\n",
    "> - Es una lista ordenada de todo lo que se conoce que es necesario para el producto.\n",
    "> - Es la única fuente de requisitos para cualquier cambio a realizarse en el producto, si no está en la lista **NO EXISTE**.\n",
    "> - Nunca está completa, se va desarrollando a medida que avanza el proyecto.\n",
    "> - Los elementos más prioritarios tienen descripciones más completas.\n",
    "> - Es dinámica, cambia constantemente para que el producto sea adecuado, competitivo y útil.\n",
    "> - Es un artefacto _vivo_, es decir, está cambiando constantemente y en ella residen los elementos necesarios para completar el producto. Elementos se añaden y elementos se pueden añadir, no lo olvides.\n",
    "\n",
    "#### Los elementos de la Lista del Producto se conocen como 'Historias de Usuario'\n",
    "> - Las Historias de Usuario son lo suficientemente granulares o pequeños para definir una pequeña funcionalidad del producto.\n",
    "> - Se agrupan en elementos más grandes denominadas 'Épicas', para poder tener cierto control y orden.\n",
    "\n",
    "#### Las Épicas pueden crearse en base a funcionalidades o módulos del producto que se está desarrollando; normalmente requieren más de un Sprint para ser completadas."
   ]
  },
  {
   "cell_type": "markdown",
   "metadata": {},
   "source": [
    "<div class=\"alert alert-block alert-warning\">\n",
    "    <h2><b>¿Qué nos cuentan las Historias de Usuario?</b></h2>\n",
    "</div>\n",
    "\n",
    "Las historias de usuario son los elementos más específicos de la Lista del Producto, es la visión del usuario sobre la funcionalidad esperada del producto.\n",
    "\n",
    "No se debe confundir con los requerimientos, pues es la funcionalidad que el usuario quiere o espera de nuestro producto. El usuario no siempre es el ser humano tras la pantalla, también puede ser otra parte del sistema.\n",
    "\n",
    "### Componentes de la Historia de Usuario:\n",
    "> - **Título.** De manera rápida y sencilla, cuenta de que trata la historia.\n",
    "> - **Descripción.** Lleva más información:\n",
    ">> - ¿Cómo?\n",
    ">> - ¿Quién realiza la acción?\n",
    ">> - ¿Qué se quiere?\n",
    ">> - ¿Para qué lo quiero? = Beneficio\n",
    ">> - Componentes técnicos\n",
    ">> - Etc.\n",
    "> - **Puntos.** Esfuerzo que tomará al equipo de desarrollo terminar esa historia.\n",
    "> - **Criterio de aceptación.** ¿Qué necesita la historia para poder decir que esta historia está terminada?\n",
    "> - **Información adicional.**\n",
    "\n",
    "\n",
    "### Definición de \"completo\":\n",
    "Estos elementos *podrían* formar parte de la definición:\n",
    "> - Funcionalidad (Criterios de aceptación).\n",
    "> - Código subido en git.\n",
    "> - Pruebas creadas.\n",
    "> - Documentación.\n",
    "\n",
    "### Invirtiendo tiempo en Historias:\n",
    "\n",
    "> - **I - Independiente.** No debe tener dependecia, o antes terminarlas.\n",
    "> - **N - Negociable.** Para poder dividirla en historias mas pequeñas.\n",
    "> - **V - Valiosa.** Entregar valor al cliente, funcionalidad.\n",
    "> - **E - Estimable.** ¿Cómo y cuanto esfuerzo representa?\n",
    "> - **S - Small.**\n",
    "> - **T - Testable.** A través de criterios de aceptación y definición de 'terminado'.\n",
    "\n",
    "Se utiliza la técnica de las 3C's:\n",
    "- Cards (Tarjetas).\n",
    "- Conversación.\n",
    "- Confirmación.\n",
    "\n",
    "### ¿Cómo estimar historias de usuario?\n",
    "\n",
    "Se deben tener en cuenta 4 puntos muy importantes:\n",
    "- Complejidad de la historia.\n",
    "- Cantidad de trabajo requerido.\n",
    "- Conocimientos necesarios.\n",
    "- Incertidumbre.\n",
    "\n",
    "El estimado en la historia de usuario lo conoceremos como **puntos**, que no tienen ninguna conexión con ninguna unidad de medida específica, **es un estimado empírico con base en la experiencia del equipo.**\n",
    "\n",
    "#### Se puede utilizar:\n",
    "> -_Poker de planeación._\n",
    "Donde hay varios tipos de escala:\n",
    ">> - Fibonacci modificado (1, 2, 3, 5, 8, 13, 20, 40, 100, $\\infty$ y ?)\n",
    ">> - Potencias de dos. $2^n$\n",
    "\n",
    "Esto minimiza el tiempo de discusión sobre cual valor asignar. <br>\n",
    "Al final del proceso de asignación, se tendrá el total de puntos que se deberá trabajar en el Sprint y eso nos dará:\n",
    "\n",
    "> - **Velocidad del equipo.<br>**\n",
    "Total de puntos de las historias de usuario completados por el equipo durante un sprint.<br>\n",
    "> - **Capacidad. <br>**\n",
    "La cantidad de puntos que (en teoría) se pueden completar en un sprint futuro en base a la experiencia adquirida.\n",
    "\n",
    "Se puede volver a votar, para re-considerar algún aspecto que parte del equipo no haya notado."
   ]
  },
  {
   "cell_type": "markdown",
   "metadata": {},
   "source": [
    "<div class=\"alert alert-block alert-warning\">\n",
    "    <h2><b>¿Por dónde comenzar?</b></h2>\n",
    "</div>\n",
    "\n",
    "> ### Sobre el backlog del sprint y cómo priorizarlo...\n",
    "\n",
    "### ¿Qué es el backlog del sprint?\n",
    "- Es un **subconjunto de la Lista de Producto** y contiene los elementos o Historias de Usuario que serán desarrolladas en el sprint. <br>\n",
    "- De esto dependerá el incremento a desarrollar y los objetivos del Sprint.\n",
    "\n",
    "> Este plan debe tener detalle suficiente como para que todo el equipo sea capaz de comprenderlo en los daily stand-ups.\n",
    "\n",
    "> **El equipo de desarrollo es el dueño del backlog del sprint**, son los únicos que pueden aceptar que se agreguen elementos al Sprint Backlog.\n",
    "\n",
    "> Así mismo, si un elemento se vuelve innecesario a mitad de un sprint, puede sacarse de la lista de pendientes.\n",
    "\n",
    "### Definiendo prioridades.\n",
    "> - **Valor para el cliente.** Evalúa la naturaleza del producto.\n",
    ">> ¿Qué genera más valor?\n",
    "> - **Urgencia.**\n",
    "> - **Riesgo.**\n",
    ">> Si no desarrollo esta historia de usuario, ¿qué tanto me puedo atrasar con respecto a las que vienen adelante?\n",
    "> - **Oportunidad.**\n",
    ">> Si hago esta historia, ¿cuantas historias más podré usar o en cuantos productos podré utilizar la misma lógica de programación?\n",
    "> - **Esfuerzo.** ¿Cuanto tiempo o recursos tomará el terminar esta historia?\n",
    "\n",
    "_Puedes utilizar herramientas como [Trello](https://trello.com) o [Jira](https://www.atlassian.com/es/software/jira)_\n",
    "\n",
    "Ejemplo de Srum: [Trello](https://trello.com/b/2SFC7g8G/scrum-ejemplo)"
   ]
  },
  {
   "cell_type": "markdown",
   "metadata": {},
   "source": [
    "<div class=\"alert alert-block alert-warning\">\n",
    "    <h2><b>¿Cómo medir el avance del proyecto?</b></h2>\n",
    "</div>\n",
    "\n",
    "### La idea es que el equipo de desarrollo vea a lo largo del Sprint si se puede cumplir o no el objetivo del Sprint.\n",
    "\n",
    "> ### **Se hará con base en los puntos de las Historias de Usuario.**\n",
    "\n",
    "### Se utilizan 3 gráficas:\n",
    "##### Aquí las puedes encontrar: [Recursos Scrum](https://drive.google.com/drive/folders/1ALoxqzZZgeMDQDcu8ckh9dFT0G1fgQ0Q?usp=sharing)\n",
    "> **1. Gráfica de trabajo pendiente o Burn down chart.**<br>\n",
    "Se pueden observar 3 lineas.\n",
    ">> - **Línea azul.** Proyección ideal de como deben irse completando los puntos.\n",
    ">> - **Línea roja.** El avance real de como vamos completando los puntos.\n",
    ">> - **Línea gris.** Es la _tendencia_, para darnos idea de a donde vamos a llegar.\n",
    "\n",
    "---\n",
    "> **2. Gráfica de trabajo pendiente o Burn up chart.**<br>\n",
    "Define el trabajo que se ha ido completando a lo largo del sprint.\n",
    "Se pueden observar 4 lineas.\n",
    ">> - **Línea amarilla.** Es el objetivo en el Sprint.\n",
    ">> - **Línea gris.** Es la _tendencia_, para darnos idea de a donde vamos a llegar.\n",
    ">> - **Línea azul.** Estimado del avance ideal.\n",
    ">> - **Línea roja.** El avance real de como vamos completando los puntos.\n",
    "---\n",
    "- Si la gráfica (roja o gris) está por arriba del ideal, no se están completando historias como lo teníamos planeado. Por el contrario, si está por debajo, nos está yendo mejor.\n",
    "- Si se completa antes el trabajo, se puede aprovechar para ver si hay oportunidad de mejora o prepararse adecuadamente para el Sprint Review.\n",
    "> _Si no termina en el cero, las historias que queden pendientes deberán pasarse al siguiente Sprint con una mayor prioridad._\n",
    "---\n",
    "> **3. Gráfica de trabajo acumulado.**<br>\n",
    "Ya no se hace en el día a día del Sprint, si no que con valores históricos de Sprints anteriores.<br>\n",
    "Tendrá que construirse de acuerdo a los estados que tenga tu proceso de desarrollo (incluso puedes agruparlos), los más básicos son:\n",
    ">> - **Verde - Pendiente.**<br>\n",
    "Es acumulativo, el valor más alto. El valor puede no ser constante, debido a que al inicio del proyecto puedes definir 50 puntos, pero como es cambiante, al final puedes trabajar 70 puntos.\n",
    ">> - **Amarillo - En Progreso.**\n",
    ">> - **Rojo - QA.**\n",
    ">> - **Azul - Completo.**\n",
    "\n",
    "- Un análisis importante es ver cuanto tarda una Historia en pasar de una etapa a otra en el proceso; esto se hace midiendo la distancia horizontal entre los estados de tu proceso (Sprint inicial -> Sprint final).<br>\n",
    "- Los cuellos de botella puedes identificarlo entre la distancia vertical entre un estado y otro (sobre el mismo sprint)."
   ]
  },
  {
   "cell_type": "markdown",
   "metadata": {},
   "source": [
    "<div class=\"alert alert-block alert-info\">\n",
    "    <h2><b>3. Sobre las ceremonias del Scrum.</b></h2>\n",
    "</div>"
   ]
  },
  {
   "cell_type": "markdown",
   "metadata": {},
   "source": [
    "<div class=\"alert alert-block alert-success\">\n",
    "    <h2> <b>¿Cuál es el ritmo del equipo? El Sprint.</b></h2>\n",
    "</div>\n",
    "\n",
    "- ### El Sprint es un período de tiempo determinado en que se crea un incremento de producto, siempre deberá ser el mismo durante todo el proyecto.\n",
    "\n",
    "> #### Puede ser de 1 a 4 semanas, pero lo más utilizado son 2 semanas.\n",
    "\n",
    "- ### Todos los Sprint deben tener un objetivo claro.\n",
    "\n",
    "- ### Cualquier cambio dentro del Sprint debe ser negociado entre el Product Owner y el Equipo de desarrollo.\n",
    "\n",
    "- ### Si los objetivos quedan obsoletos, se puede cancelar el Sprint.\n",
    "> **Sólo el Product Owner tiene la autoridad para cancelar un Sprint.**\n",
    "\n",
    "### El sprint tiene el siguiente ritmo:\n",
    "\n",
    "> **Planeación del Sprint.<br>\n",
    "> Scrum diario.<br>\n",
    "> Trabajo de desarrollo.<br>\n",
    "> Revisión del Sprint.<br>\n",
    "> Retrospectiva del Sprint.<br>**\n",
    "---"
   ]
  },
  {
   "cell_type": "markdown",
   "metadata": {},
   "source": [
    "<div class=\"alert alert-block alert-warning\">\n",
    "    <h3> <b>Planeación del Sprint.</b></h3>\n",
    "</div>\n",
    "<p><b>Se analiza que vamos a tomar en cuenta para trabajar durante el Sprint.</b> .</p>\n",
    "\n",
    "\n",
    "<div class=\"alert alert-block alert-warning\">\n",
    "    <h3><b>Scrum diario.</b></h3>\n",
    "</div>\n",
    "    <p><b>Se discute el progreso hacia los objetivos</b></p>\n",
    "\n",
    "\n",
    "<div class=\"alert alert-block alert-warning\">\n",
    "    <h3><b>Trabajo de desarrollo.</b></h3>\n",
    "</div>\n",
    "\n",
    "\n",
    "<div class=\"alert alert-block alert-warning\">\n",
    "    <h3><b>Revisión del Sprint..</b></h3>\n",
    "</div>\n",
    "    <p><b>Se ve si se cumplen o no los objetivos.</b></p>\n",
    "\n",
    "\n",
    "<div class=\"alert alert-block alert-warning\">\n",
    "    <h3><b>Retrospectiva del Sprint..</b></h3>\n",
    "</div>\n",
    "    <p><b>El equipo analiza que tan bien lo ha hecho, con la idea de mejorar.</b></p>"
   ]
  },
  {
   "cell_type": "markdown",
   "metadata": {},
   "source": [
    "<div class=\"alert alert-block alert-success\">\n",
    "    <h2> <b>¿Cómo planeo el Sprint? El Sprint Planning.</b></h2>\n",
    "</div>\n",
    "\n",
    "- ### Aquí se definen que elementos de la _Lista del Producto_ se van a tomar para realizar durante el Sprint.\n",
    "- ### Todo el equipo de Scrum debe estar presente.\n",
    "- ### No debe durar más de 8 horas _para Sprints de 4 semanas._\n",
    "> Lo normal es 1hr para Sprints de 2 semanas, sin embargo, toma el tiempo que requieras.\n",
    "- ### El Scrum Master debe encargarse de organizar todo.\n",
    "> - Salón amplio.\n",
    "> - Condiciones necesarias (pizarrón, post-it, sala de videoconferencia, etc).\n",
    "- ### Nadie puede responder correos, llamadas o mensajes. **Concentración!**\n",
    "\n",
    "\n",
    "\n",
    "### Durante la sesión deben responderse estas preguntas:\n",
    "\n",
    "**¿Qué puede entregarse al final del Sprint?**\n",
    "> - Se trabajan los elementos más prioritarios de la _Lista del Producto_ y se mueven a la lista del _Backlog del Sprint_.\n",
    "> - Se discute también el objetivo a lograr en el Sprint.\n",
    ">> Se recomienda tener 1 solo objetivo, pero pueden ser varios.\n",
    "> - Se necesita saber la capacidad del equipo (con base en la experiencia) y la velocidad de la última iteración.\n",
    "\n",
    "**¿Cómo se logrará?**\n",
    "> - Los elementos de la _Lista del Producto_ seleccionados se analizan y se mueven al _Backlog del Sprint_.\n",
    "> - Se estiman los esfuerzos\n",
    "> - El **Product Owner** se encarga de aclarar cualquier duda con algún elemento del _Backlog_.\n",
    "> - Se pueden tener invitados que aporten valor a la discusión.\n",
    ">> - Cliente.\n",
    ">> - Usuario final.\n",
    "\n",
    "---\n",
    "\n",
    "### Este proceso se resumen en 4 pasos:\n",
    "> 1. Definir los elementos\n",
    "> 2. Estimación del total de puntos.\n",
    "> 3. Analizar la capacidad del equipo.\n",
    "> 4. Fijar objetivos del Sprint.\n",
    "\n",
    "Puedes realizar el siguiente ejercicio: [Estimación de Sprint](https://drive.google.com/file/d/1NF6MCBAjJB1MvpsyC9JFW6Woi6oT8v9T/view?usp=sharing)"
   ]
  },
  {
   "cell_type": "markdown",
   "metadata": {},
   "source": [
    "<div class=\"alert alert-block alert-success\">\n",
    "    <h2> <b>Darle seguimiento al proyecto. El Daily stand-up.</b></h2>\n",
    "</div>\n",
    "\n",
    "### Tiene las siguientes características:\n",
    "- #### Reunión diaria de no más de 15 minutos, participando únicamente el Equipo de Desarrollo.\n",
    "- #### El Scrum Master programa la reunión en el mismo lugar a la misma hora todos los días.\n",
    "- #### Debe ser en pie, para no extendernos.\n",
    "- #### Se planean las próximas 24 horas de trabajo.\n",
    "- #### Pueden estar presentes otras personas, pero no participan.\n",
    "- #### Optimiza la colaboración entre los miembros del equipo.\n",
    "- #### Ayuda a medir el progreso para cumplir el objetivo del sprint.\n",
    "\n",
    "### Se deben responder 3 preguntas:\n",
    "\n",
    "> ¿Qué hice ayer? <br>\n",
    "> ¿Qué haré hoy? <br>\n",
    "> ¿Tengo algún impedimento? <br>\n",
    "\n",
    "**- Si hay algún impedimento, el _Scrum Master_ se encarga de resolverlos.** <br>\n",
    "**- Si se necesitan más detalles, el equipo o miembros particulares pueden reunirse luego del Daily Stand-up.**"
   ]
  },
  {
   "cell_type": "markdown",
   "metadata": {},
   "source": [
    "<div class=\"alert alert-block alert-success\">\n",
    "    <h2> <b>Refinando historias.</b></h2>\n",
    "</div>\n",
    "\n",
    "#### _No es un proceso definido formalmente, pero es muy recomendado tenerlo en cuenta._\n",
    "### El objetivo es tomar las funcionalidades del siguiente Sprint y detectar cualquier posible duda o impedimento antes de comenzar.\n",
    "\n",
    ">- **Se recomienda tener al menos una sesión durante el Sprint.**<br>\n",
    ">- **Es organizada por el _Scrum Master_ y pueden participar todos los miembros del Equipo de Desarrollo. El Product Owner siempre está presente.**\n"
   ]
  },
  {
   "cell_type": "markdown",
   "metadata": {},
   "source": [
    "<div class=\"alert alert-block alert-success\">\n",
    "    <h2> <b>Demos y retrospectivas.</b></h2>\n",
    "</div>\n",
    "\n",
    "### Para el final del Sprint, se mostrará lo que se trabajó y lo que hemos aprendido durante el Sprint."
   ]
  },
  {
   "cell_type": "markdown",
   "metadata": {},
   "source": [
    "<div class=\"alert alert-block alert-warning\">\n",
    "    <h3><b>Revisión del Sprint.</b></h3>\n",
    "</div>\n",
    "\n",
    "- Ocurre normalmente el último día del Sprint.\n",
    "- Se le va a mostrar al cliente lo que hemos logrado, el software funcional.\n",
    "Pueden ser varias reuniones a lo largo del Sprint.\n",
    "Aquí ejercemos la **_transparencia_**, si es que no se logró o se logró de buena manera el cumplir los objetivos.\n",
    "\n",
    "Es una reunión informal y abierta al diálogo, no es una reunión de seguimiento.\n",
    "- Es facilitada por el Scrum Master.\n",
    "- No dura más de 4 horas, en sprints de 1 mes. Depende de la cantidad de producto terminado para presentar.\n",
    "\n",
    "- Al final se tendrá una lista de producto actualizada.\n",
    "- No uses slides (presentaciones), muestra el producto desarrollado."
   ]
  },
  {
   "cell_type": "markdown",
   "metadata": {},
   "source": [
    "<div class=\"alert alert-block alert-warning\">\n",
    "    <h3><b>Retrospectiva.</b></h3>\n",
    "</div>\n",
    "\n",
    "### Es una reunión que debe considerar:\n",
    "> - Ser cara a cara.\n",
    "> - Ser interna para el equipo, en un **ambiente más cómodo y en confianza**.\n",
    ">> - **No participan entes externos**, ya que se analizarán cuales son las **oportunidades de mejora en el equipo**.\n",
    "> - Ser positiva y productiva, no es una reunión para buscar culpas.\n",
    "> - Participar todo el equipo de Scrum.\n",
    "\n",
    "### Duración:\n",
    "> - No más de 3 horas para sprints de 1 mes, para sprints de 2 semanas funciona bien 15 - 30 mins.\n",
    "\n",
    "\n",
    "### Principalmente se discuten  4 elementos:\n",
    "> **- Herramientas.** ¿Tenemos las adecuadas? <br>\n",
    "> **- Relaciones.** Dentro y fuera del equipo, ¿han sido fluidas? <br>\n",
    "> **- Personas.** ¿Hay algún tipo de inconveniente? <br>\n",
    "> **- Procesos.** ¿Están adecuados al trabajo óptimo? <br>\n",
    "\n",
    "### Se recomiendan 3 preguntas:\n",
    "> 1. ¿Qué hicimos bien?\n",
    "> 2. ¿Qué no hicimos tan bien?\n",
    "> 3. ¿Qué podemos mejorar?\n",
    "\n",
    "**Con base en las respuesta se identifican los elementos más importantes, se buscan soluciones y se crea un plan de acción para aplicar las mejoras.**"
   ]
  },
  {
   "cell_type": "markdown",
   "metadata": {},
   "source": [
    "<div class=\"alert alert-block alert-danger\">\n",
    "    <h1> <b>Crecer usando SCRUM.</b></h1>\n",
    "</div>\n",
    "\n",
    "### ¿Cómo SCRUM puede ayudarnos a trabajar en equipos de 10 o de 100 personas?"
   ]
  },
  {
   "cell_type": "markdown",
   "metadata": {},
   "source": [
    "<div class=\"alert alert-block alert-info\">\n",
    "    <h2><b>Escalabilidad de equipos.</b></h2>\n",
    "</div>\n",
    "\n",
    "**Scrum es capaz de funcionar en organizaciones grandes, hay quienes han reportado poder trabajar hasta con 400 personas con SCRUM.**\n",
    "\n",
    "La forma en la que está diseñado Scrum, permite trabajar en proyectos de distinta complejidad.\n",
    "\n",
    "Puede haber un Scrum of Scrums, donde se coordinan los elementos de trabajo de todos los equipos que ya conocemos. Participan 1 o 2 representantes de cada equipo, ya sea:\n",
    "> - Programador más experto.\n",
    "> - Product Owner.\n",
    "> - Scrum Master."
   ]
  },
  {
   "cell_type": "markdown",
   "metadata": {},
   "source": [
    "<div class=\"alert alert-block alert-info\">\n",
    "    <h2><b>Importancia de las comunidades de práctica.</b></h2>\n",
    "</div>\n",
    "\n",
    ">_\"Las comunidades de práctica son grupos de personas que comparten un interés o una pasión por algo que hacen y aprenden a hacerlo mejor a medida van interactuando.\"_\n",
    "> - Étienne Wenger.\n",
    "\n",
    "Se promueven estándares y mejores prácticas entre distintos equipos.\n",
    "\n",
    "### En las comunidades de práctica se tienen 3 elementos:\n",
    "> **1. Dominio.** ¿Qué nos gusta?\n",
    "> **2. Práctica.** ¿Cómo lo compartimos?\n",
    "> **3. Comunidad.** ¿A quién más le interesa?\n",
    "\n",
    "### Hay 2 formas de organizar nuestras comunidades de práctica:\n",
    "> **a) Basada en roles.**\n",
    ">> - Programadores.\n",
    ">> - Diseñadores.\n",
    ">> - Product Owners.\n",
    ">> - Etc. <br>\n",
    "\n",
    "> **b) Basada en tópicos.** \n",
    ">> - Machine Learning.\n",
    ">> - UI/UX.\n",
    ">> - Etc."
   ]
  }
 ],
 "metadata": {
  "kernelspec": {
   "display_name": "Python 3",
   "language": "python",
   "name": "python3"
  },
  "language_info": {
   "codemirror_mode": {
    "name": "ipython",
    "version": 3
   },
   "file_extension": ".py",
   "mimetype": "text/x-python",
   "name": "python",
   "nbconvert_exporter": "python",
   "pygments_lexer": "ipython3",
   "version": "3.7.7"
  }
 },
 "nbformat": 4,
 "nbformat_minor": 4
}
