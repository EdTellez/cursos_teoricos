{
 "cells": [
  {
   "cell_type": "markdown",
   "metadata": {},
   "source": [
    "<div class=\"alert alert-block alert-danger\">\n",
    "    <h1>Historia del Bitcoin.</h1>\n",
    "</div>\n",
    "\n",
    "\n",
    "Bitcoin es la primera criptomoneda o activo financiero digital descentralizado de la historia que permite realizar transacciones de forma segura, privada y sin intermediarios alrededor del mundo.\n",
    "\n",
    "Satoshi Nakamoto es el pseudónimo que fue utilizado por la persona o el grupo de personas que diseñaron y crearon el ecosistema Bitcoin. Lo único que se conoce de Satoshi Nakamoto son sus datos publicados en P2PFoundation: \n",
    "> - Hombre de nacionalidad japonesa\n",
    "> - 45 años de edad (5 de abril de 1975).\n",
    "\n",
    "### ¿Por qué fue creado Bitcoin?\n",
    "En 2008 el mundo presenció una de las crisis financieras más importantes de la historia, causando inestabilidad en los mercados y el sistema financiero a partir de las decisiones y medidas tomadas por los gobiernos y entidades bancarias.\n",
    "\n",
    "A inicios de 2009, todo cambió; el Bitcoin fue presentado al mundo a través de la tecnología Blockchain: un sistema que permite la emisión controlada de las monedas digitales, además de funcionar como un libro público que registra cada una de las transacciones realizadas, lo que asegura que cada moneda solo pueda ocuparse una vez. De esa forma, el esquema de seguridad está garantizado, pues cada una de estas transacciones son realizadas por medio de una red descentralizada de ordenadores y no existe ente gubernamental o intermediario entre los participantes.\n",
    "\n",
    "### Historia del Bitcoin\n",
    "Previo al bitcoin existieron varias iniciativas para poder crear un registro descentralizado de un activo digital, sin embargo ninguna logró ser exitosa debido a problemas de seguridad y usabilidad.\n",
    "\n",
    "A mediados de 2008 fue registrado el dominio bitcoin.org, pero no fue hasta el 3 de enero de 2009 dónde salió el primer documento que explicaría el funcionamiento del cripto ecosistema. Este mismo día se minó el primer bloque de Bitcoin, generando entonces los primeros 50 Bitcoins de la historia y dando inicio a lo que se convertiría en una alternativa financiera en el mundo algunos años después.\n",
    "\n",
    "Durante su primer año de creación muy pocas personas sabían sobre el Bitcoin, también denominado como BTC en el sistema financiero, y su cotización fue pautada antes de finalizar el 2009 en menos de 1 centavo de dólar considerando el coste de energía requerido por un computador para poder resolver un bloque de minado, y generar bitcoins a partir de ello.\n",
    "\n",
    "No fue hasta el 22 de mayo de 2010 que se realizó el primer pago en bitcoins en la compra de dos pizzas por 10.000 BTC, hecho que quedaría marcado en la historia y que hoy se celebra cada año como el “Bitcoin Pizza Day” teniendo en cuenta que la cotización de esta moneda en mayo de 2020 supera los 8000 USD por unidad. Por lo tanto 10.000 BTC representan una cantidad superior a los 80 millones de dólares americanos.\n",
    "\n",
    "El precio de un bitcoin se determina a partir de las principales fuerzas de mercado: la oferta y la demanda. Durante los primeros años la cotización del precio no varió en gran medida, pero sí aumentó su reconocimiento. En 2011 finalmente superó 1 dólar americano (USD) de precio durante el primer trimestre, iniciando a partir de allí picos de volatilidad, pues en sólo unos meses superó los 10 USD por bitcoin y cayó nuevamente a 2 USD para final de año.\n",
    "\n",
    "A partir de allí, el mundo comenzó a conocer más sobre Bitcoin a través de eventos fundamentales, sus beneficios y también la volatilidad en los precios. Pasó a convertirse en el tiempo no sólo en una moneda digital sino también en un activo financiero importante de gran rentabilidad y detrás de ello en un ecosistema con cientos de proyectos consolidados sobre la tecnología blockchain llevándolo a superar en 2017 un precio cercano a los 20.000 USD.\n",
    "\n",
    "Resumen\n",
    "En efecto, el bitcoin y las criptomonedas han llegado para quedarse marcando un antes y un después en las economías del mundo. En la próxima clase entenderemos un poco más del aspecto técnico del Bitcoin, y cómo ciertas características pueden afectar su precio de forma positiva en el tiempo, además de los beneficios y ventajas del cripto activo."
   ]
  },
  {
   "cell_type": "code",
   "execution_count": null,
   "metadata": {},
   "outputs": [],
   "source": []
  }
 ],
 "metadata": {
  "kernelspec": {
   "display_name": "Python 3",
   "language": "python",
   "name": "python3"
  },
  "language_info": {
   "codemirror_mode": {
    "name": "ipython",
    "version": 3
   },
   "file_extension": ".py",
   "mimetype": "text/x-python",
   "name": "python",
   "nbconvert_exporter": "python",
   "pygments_lexer": "ipython3",
   "version": "3.7.7"
  }
 },
 "nbformat": 4,
 "nbformat_minor": 4
}
