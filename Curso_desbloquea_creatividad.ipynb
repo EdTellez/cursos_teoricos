{
 "cells": [
  {
   "cell_type": "markdown",
   "metadata": {},
   "source": [
    "Si no estás creando, estás destruyendo.\n",
    "\n",
    "\n",
    "Lo opuesto de la guerra, es la creación.\n",
    "\n",
    "¿Por qué tenemos que crear?\n",
    "Vivimos en un problema de sobreconsumo, si no estás creando, por definición estás destruyendo.\n",
    "Si no estás creando, por definición, solo estás destruyendo.\n",
    "Si solo vienes al mundo a consumir, le estás quitando más de lo que dejas.\n",
    "\n",
    "Todos tenemos el potencial de crear.\n",
    "\n",
    "Change your mind. - Rod Jodkins\n",
    "El secreto de la gente que crea es que se **saben** creativos y no es que 'sean' creativos.\n",
    "\n",
    "Todos podemos crear. \n",
    "\n",
    "No busques la paz, busca la creación."
   ]
  },
  {
   "cell_type": "markdown",
   "metadata": {},
   "source": [
    "\n",
    "\n",
    "Creatividad es una cualidad humana que te permite generar más hipótesis distintas al estándar común.\n",
    "\n",
    "O una forma de pensar alternativa."
   ]
  },
  {
   "cell_type": "markdown",
   "metadata": {},
   "source": [
    "Fracasar sí es una opción.\n",
    "\n",
    "El fracaso potencializa la creación, pero el miedo al fracaso la mata.\n",
    "\n",
    "Retroalimentación: ¿Qué está mal de esto? ¿Qué mejorarías de esto?"
   ]
  },
  {
   "cell_type": "markdown",
   "metadata": {},
   "source": [
    "Si eres el más inteligente del cuarto, estás en el cuarto equivocado"
   ]
  },
  {
   "cell_type": "markdown",
   "metadata": {},
   "source": [
    "Divertirte es cosa seria.\n",
    "No puedes ser lluvia y ver llover.\n",
    "\n",
    "Abréte al mundo, eso ampliará tu horizonte.\n",
    "Divertirte es parte importante de la rutina, escucha a tu cuerpo.\n",
    "\n",
    "Trabajas para vivir, no vives para trabajar."
   ]
  },
  {
   "cell_type": "code",
   "execution_count": null,
   "metadata": {},
   "outputs": [],
   "source": []
  }
 ],
 "metadata": {
  "kernelspec": {
   "display_name": "Python 3",
   "language": "python",
   "name": "python3"
  },
  "language_info": {
   "codemirror_mode": {
    "name": "ipython",
    "version": 3
   },
   "file_extension": ".py",
   "mimetype": "text/x-python",
   "name": "python",
   "nbconvert_exporter": "python",
   "pygments_lexer": "ipython3",
   "version": "3.7.7"
  }
 },
 "nbformat": 4,
 "nbformat_minor": 4
}
