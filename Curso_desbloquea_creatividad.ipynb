{
 "cells": [
  {
   "cell_type": "markdown",
   "metadata": {},
   "source": [
    "Si no estás creando, estás destruyendo.\n",
    "\n",
    "\n",
    "Lo opuesto de la guerra, es la creación.\n",
    "\n",
    "¿Por qué tenemos que crear?\n",
    "Vivimos en un problema de sobreconsumo, si no estás creando, por definición estás destruyendo.\n",
    "Si no estás creando, por definición, solo estás destruyendo.\n",
    "Si solo vienes al mundo a consumir, le estás quitando más de lo que dejas.\n",
    "\n",
    "Todos tenemos el potencial de crear.\n",
    "\n",
    "Change your mind. - Rod Jodkins\n",
    "El secreto de la gente que crea es que se **saben** creativos y no es que 'sean' creativos.\n",
    "\n",
    "Todos podemos crear. \n",
    "\n",
    "No busques la paz, busca la creación.\n",
    "\n",
    "Creatividad es una cualidad humana que te permite generar más hipótesis distintas al estándar común.\n",
    "\n",
    "O una forma de pensar alternativa.\n",
    "\n",
    "---"
   ]
  },
  {
   "cell_type": "markdown",
   "metadata": {},
   "source": [
    "El mito de la creatividad.\n",
    "<br>\n",
    "<br>\n",
    "La creatividad está ligada de forma natural con la necesidad.\n",
    "Los problemas, son la comida favorita de la creatividad.\n",
    "\n",
    "¿Cómo hacemos para pensar distinto?\n",
    "La calma y la paz no fomenta la creación, funciona con preguntas.\n",
    "\n",
    "El conocimiento es la creatividad graduada, por eso los niños (que desconocen mucho) son los más creativos.\n",
    "La clave está en llenar tu cerebro de las cosas correctas.\n",
    "\n",
    "Sin ejecución, la creatividad es sólo una hipótesis, un ¿qué pasaría?\n",
    "\n",
    "---"
   ]
  },
  {
   "cell_type": "markdown",
   "metadata": {},
   "source": [
    "No tengas ideas.\n",
    "\n",
    "Las ideas no sirven si no se hacen.\n",
    "Las ideas son huérfanas, no son de quien las tiene, son de quien las hace.\n",
    "\n",
    "El mundo es de quien hace, no del que idea.\n",
    "\n",
    "¿Cómo sabemos si una idea es buena o es mala? Lo ideal sería haciéndolas. Lo mejor que puedes hacer es autocuestionarte\n",
    "\n",
    "---"
   ]
  },
  {
   "cell_type": "markdown",
   "metadata": {},
   "source": [
    "¿Cómo ser original? ¿Cómo creo algo que jamás se haya visto?\n",
    "Es imposible. La clave es aprender a ver las cosas correctas.\n",
    "\n",
    "Austin Clion. Pierde el miedo a imitar, nunca podrás recrear al artista original, estás influenciado por otras cosas distintas.\n",
    "\n",
    "La verdadera originalidad consiste en hacer la mezcla correcta, mezclar cosas en tu cabeza que muy pocas personas lo están haciendo, de campos muy distintos."
   ]
  },
  {
   "cell_type": "markdown",
   "metadata": {},
   "source": []
  },
  {
   "cell_type": "markdown",
   "metadata": {},
   "source": []
  },
  {
   "cell_type": "markdown",
   "metadata": {},
   "source": [
    "Fracasar sí es una opción.\n",
    "\n",
    "El fracaso potencializa la creación, pero el miedo al fracaso la mata.\n",
    "\n",
    "Retroalimentación: ¿Qué está mal de esto? ¿Qué mejorarías de esto?"
   ]
  },
  {
   "cell_type": "markdown",
   "metadata": {},
   "source": [
    "Si eres el más inteligente del cuarto, estás en el cuarto equivocado"
   ]
  },
  {
   "cell_type": "markdown",
   "metadata": {},
   "source": [
    "Divertirte es cosa seria.\n",
    "No puedes ser lluvia y ver llover.\n",
    "\n",
    "Abréte al mundo, eso ampliará tu horizonte.\n",
    "Divertirte es parte importante de la rutina, escucha a tu cuerpo.\n",
    "\n",
    "Trabajas para vivir, no vives para trabajar."
   ]
  },
  {
   "cell_type": "code",
   "execution_count": null,
   "metadata": {},
   "outputs": [],
   "source": []
  }
 ],
 "metadata": {
  "kernelspec": {
   "display_name": "Python 3",
   "language": "python",
   "name": "python3"
  },
  "language_info": {
   "codemirror_mode": {
    "name": "ipython",
    "version": 3
   },
   "file_extension": ".py",
   "mimetype": "text/x-python",
   "name": "python",
   "nbconvert_exporter": "python",
   "pygments_lexer": "ipython3",
   "version": "3.7.7"
  }
 },
 "nbformat": 4,
 "nbformat_minor": 4
}
