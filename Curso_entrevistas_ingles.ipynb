{
 "cells": [
  {
   "cell_type": "markdown",
   "metadata": {},
   "source": [
    "Resources:\n",
    "> - https://www.grammarly.com\n",
    "> - https://business.linkedin.com/en-uk/marketing-solutions/blog/posts/content-marketing/2017/17-steps-to-a-better-LinkedIn-profile-in-2017"
   ]
  },
  {
   "cell_type": "markdown",
   "metadata": {},
   "source": [
    "<div class=\"alert alert-block alert-success\">\n",
    "    <h1>What should your resume include?</h1>\n",
    "</div>\n",
    "\n",
    "> ## 1. Personal information and contact details.\n",
    ">> ### (LinkedIn and GitHub)\n",
    "> ## 2. Profesional summary.\n",
    ">> ### Experiencie and skills\n",
    "> ## 3. Relevant experience (current job first).\n",
    ">> - Position\n",
    ">> - Company\n",
    ">> - Responsabilities\n",
    ">> - Achivements\n",
    "> ## 4. Education.\n",
    "> ## 5. Skills (soft and hard).\n",
    ">> _Soft are prefered._\n",
    "> ## 6. Languages - Level.\n",
    "\n",
    "## Adition:\n",
    "> ### - Certifications.\n",
    "> ### - Awards.\n",
    "> ### - Volunteering work."
   ]
  },
  {
   "cell_type": "markdown",
   "metadata": {},
   "source": [
    "<div class=\"alert alert-block alert-warning\" />\n",
    "    <h2><b>Use:</b></h2>\n",
    "</div>\n",
    "\n",
    "- ### Choose a legible font such as Arial or Tahoma\n",
    "- ### Double-check spelling and punctuation\n",
    "- ### Resume should be 1 or 2 pages max\n",
    "- ### Don't include a photo unless you are asked to in the job posting\n",
    "- ### Send it in PDF\n",
    "\n",
    "---"
   ]
  },
  {
   "cell_type": "markdown",
   "metadata": {},
   "source": [
    "<div class=\"alert alert-block alert-success\">\n",
    "    <h1><b>Cover letter</b></h1>\n",
    "</div>\n",
    "\n",
    "### Half of recruiters won't look at your resume if it don't have a cover letter attached to it.\n",
    "\n",
    "### A cover letter it's a 1 page document that persuades the hiring manager to read it."
   ]
  },
  {
   "cell_type": "markdown",
   "metadata": {},
   "source": [
    "<div class=\"alert alert-block alert-warning\" />\n",
    "    <h2><b>Include:</b></h2>\n",
    "</div>\n",
    "\n",
    "- ### Your personal information, contact details and date when you're sending he letter\n",
    "- ### Recipient's name and address, also maybe the title and company name\n",
    "- ### Profesional greeting\n",
    "- ### Opening paragraph, including your top skils\n",
    "- ### Include why you are the right person for the job an dwhy the company is right for you\n",
    "- ### Conclusion with a call to action. Like:\n",
    "> 'I look forward to discussing any particular job openings at your company.'\n",
    "- ### Complimentary closing and your signature"
   ]
  },
  {
   "cell_type": "markdown",
   "metadata": {},
   "source": [
    "<div class=\"alert alert-block alert-success\">\n",
    "    <h1><b>LinkedIn</b></h1>\n",
    "</div>\n",
    "\n",
    "> ## 1. Have a profesional profile photo and using a cover photo that has to do with your field.\n",
    "> ## 2. Having a descriptive but short headline\n",
    "> ## 3. Including your professional summary. Skills or strenghts as a list or  points\n",
    "> ## 4. Highlighting projects and content you have created\n",
    "> ## 5. Select your strongest skills. The ones which you want to work on.\n",
    "> ## 6. Expand your network and be present.\n",
    ">> - Friends, bosses, colleages.\n",
    ">> - Congratulate your contacts, for promotion and birthdays.\n",
    "> ## 7. Share relevant content. Creation of blogs, relevant content in news feed\n",
    "> ## 8. Have a persionalized URL with your name and last name\n",
    "\n",
    "## Adition:\n",
    "> ### - Certifications.\n",
    "> ### - Personal proyects."
   ]
  },
  {
   "cell_type": "markdown",
   "metadata": {},
   "source": []
  },
  {
   "cell_type": "markdown",
   "metadata": {},
   "source": []
  },
  {
   "cell_type": "markdown",
   "metadata": {},
   "source": []
  },
  {
   "cell_type": "markdown",
   "metadata": {},
   "source": []
  },
  {
   "cell_type": "markdown",
   "metadata": {},
   "source": []
  },
  {
   "cell_type": "markdown",
   "metadata": {},
   "source": []
  },
  {
   "cell_type": "markdown",
   "metadata": {},
   "source": []
  },
  {
   "cell_type": "markdown",
   "metadata": {},
   "source": []
  },
  {
   "cell_type": "markdown",
   "metadata": {},
   "source": []
  },
  {
   "cell_type": "markdown",
   "metadata": {},
   "source": []
  },
  {
   "cell_type": "markdown",
   "metadata": {},
   "source": []
  },
  {
   "cell_type": "markdown",
   "metadata": {},
   "source": []
  },
  {
   "cell_type": "markdown",
   "metadata": {},
   "source": []
  },
  {
   "cell_type": "markdown",
   "metadata": {},
   "source": []
  },
  {
   "cell_type": "markdown",
   "metadata": {},
   "source": []
  },
  {
   "cell_type": "markdown",
   "metadata": {},
   "source": []
  },
  {
   "cell_type": "markdown",
   "metadata": {},
   "source": []
  },
  {
   "cell_type": "markdown",
   "metadata": {},
   "source": []
  },
  {
   "cell_type": "markdown",
   "metadata": {},
   "source": []
  },
  {
   "cell_type": "markdown",
   "metadata": {},
   "source": []
  },
  {
   "cell_type": "markdown",
   "metadata": {},
   "source": []
  },
  {
   "cell_type": "markdown",
   "metadata": {},
   "source": []
  },
  {
   "cell_type": "markdown",
   "metadata": {},
   "source": []
  },
  {
   "cell_type": "markdown",
   "metadata": {},
   "source": []
  },
  {
   "cell_type": "markdown",
   "metadata": {},
   "source": []
  },
  {
   "cell_type": "markdown",
   "metadata": {},
   "source": []
  },
  {
   "cell_type": "markdown",
   "metadata": {},
   "source": []
  },
  {
   "cell_type": "markdown",
   "metadata": {},
   "source": []
  },
  {
   "cell_type": "markdown",
   "metadata": {},
   "source": []
  },
  {
   "cell_type": "markdown",
   "metadata": {},
   "source": []
  },
  {
   "cell_type": "markdown",
   "metadata": {},
   "source": []
  },
  {
   "cell_type": "markdown",
   "metadata": {},
   "source": []
  },
  {
   "cell_type": "markdown",
   "metadata": {},
   "source": []
  },
  {
   "cell_type": "markdown",
   "metadata": {},
   "source": []
  },
  {
   "cell_type": "markdown",
   "metadata": {},
   "source": []
  },
  {
   "cell_type": "markdown",
   "metadata": {},
   "source": []
  },
  {
   "cell_type": "markdown",
   "metadata": {},
   "source": []
  },
  {
   "cell_type": "markdown",
   "metadata": {},
   "source": []
  },
  {
   "cell_type": "markdown",
   "metadata": {},
   "source": []
  },
  {
   "cell_type": "markdown",
   "metadata": {},
   "source": []
  }
 ],
 "metadata": {
  "kernelspec": {
   "display_name": "Python 3",
   "language": "python",
   "name": "python3"
  },
  "language_info": {
   "codemirror_mode": {
    "name": "ipython",
    "version": 3
   },
   "file_extension": ".py",
   "mimetype": "text/x-python",
   "name": "python",
   "nbconvert_exporter": "python",
   "pygments_lexer": "ipython3",
   "version": "3.7.7"
  }
 },
 "nbformat": 4,
 "nbformat_minor": 4
}
