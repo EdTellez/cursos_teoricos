{
 "cells": [
  {
   "cell_type": "markdown",
   "metadata": {},
   "source": [
    "<div class=\"alert alert-block alert-danger\">\n",
    "    <h1>What am I gonna get in this course?</h1>\n",
    "</div>\n",
    "\n",
    "<ol>\n",
    "    <li>Learn how to prepare for a job interview.</li>\n",
    "    <li>The most common types of interviews you may face.</li>\n",
    "    <li>Be more prepared to answer interview questions.</li>\n",
    "    <li>To identify best practices you can apply during interviews.</li>\n",
    "    <li>We'll review some of the most common mistakes during interviews</li>\n",
    "</ol>\n",
    "\n",
    "<h2>Please complete each task/activities! <br> It will be very usefull.</h2>"
   ]
  },
  {
   "cell_type": "markdown",
   "metadata": {},
   "source": [
    "<div class=\"alert alert-block alert-warning\">\n",
    "    <h1>General Resources.</h1>\n",
    "</div>\n",
    "\n",
    "Here you can check some examples: [Recursos para entrevistas de trabajo en inglés.](https://drive.google.com/drive/folders/1wHHgjYgYpD0n0hRLhZQdudE4akEHEMRE?usp=sharing)"
   ]
  },
  {
   "cell_type": "markdown",
   "metadata": {},
   "source": [
    "<div class=\"alert alert-block alert-danger\">\n",
    "    <h1>Preparing ourselves for the interview.</h1>\n",
    "</div>"
   ]
  },
  {
   "cell_type": "markdown",
   "metadata": {},
   "source": [
    "<div class=\"alert alert-block alert-warning\">\n",
    "    <h1>Vocabulary.</h1>\n",
    "</div>\n",
    "\n",
    "<b>Cover letter:</b> 1 page document that you should send with your resume to persuade the hiring manager to read it.\n",
    "\n",
    "<b>Complimentary closing:</b> a word or words that come immediately before the signature of a letter to express the sender’s respect for the recipient. For example: Sincerely or Regards.\n",
    "\n",
    "<b>Professional experience:</b> a experience that you obtain from a profession. It should be included in your resume in order from current to previous.\n",
    "\n",
    "<b>Hiring manager:</b> the person responsible for hiring employees, to fill open job positions in a company.\n",
    "\n",
    "<b>LinkedIn:</b> a social networking site that helps you create professional connections according to common areas and interests, as well as you find job opportunities.\n",
    "\n",
    "<b>Professional Profile:</b> it is a brief summary of your skills, qualifications, strengths, and relevant professional experience.\n",
    "\n",
    "<b>Resume or Resumé:</b> a formal presentation in a 1 or 2 page document, in which a job applicant showcases his or her contact information, professional summary, relevant work experience, education, skills and qualifications.\n"
   ]
  },
  {
   "cell_type": "markdown",
   "metadata": {},
   "source": [
    "<div class=\"alert alert-block alert-success\">\n",
    "    <h1>How to improve my english?</h1>\n",
    "</div>\n",
    "\n",
    "The particular skills in english can be detached in:\n",
    "\n",
    "<ol>\n",
    "    <li>Speaking</li>\n",
    "    <li>Reading</li>\n",
    "    <li>Writing</li>\n",
    "    <li>Listening</li>\n",
    "</ol>\n",
    "\n",
    "So now you can focus doing different things with each skill you want to work on. It's highly recommended that you look for someone else that also wants to improve their skills, so you can work together!\n",
    "\n",
    "Keep in mind what motivates you to learn, mistakes are totally normal, learn from it."
   ]
  },
  {
   "cell_type": "markdown",
   "metadata": {},
   "source": [
    "<div class=\"alert alert-block alert-success\">\n",
    "    <h1>What should your resume include?</h1>\n",
    "</div>\n",
    "\n",
    "> ## 1. Personal information and contact details.\n",
    ">> ### (LinkedIn and GitHub)\n",
    "> ## 2. Profesional summary.\n",
    ">> ### Experiencie and skills\n",
    "> ## 3. Relevant experience (current job first).\n",
    ">> - Position\n",
    ">> - Company\n",
    ">> - Responsabilities\n",
    ">> - Achivements\n",
    "> ## 4. Education.\n",
    ">> _Start with your latest education._\n",
    "> ## 5. Skills (soft and hard).\n",
    ">> _Soft are prefered._\n",
    "> ## 6. Languages - Level.\n",
    "\n",
    "## Adition:\n",
    "> ### - Certifications.\n",
    "> ### - Awards.\n",
    "> ### - Volunteering work."
   ]
  },
  {
   "cell_type": "markdown",
   "metadata": {},
   "source": [
    "<div class=\"alert alert-block alert-warning\">\n",
    "    <h2><b>Use:</b></h2>\n",
    "</div>\n",
    "<ul>\n",
    "    <li><h3>Choose a legible font such as Arial or Tahoma.</h3></li>\n",
    "    <li><h3>Double-check spelling and punctuation.</h3></li>\n",
    "    <li><h3>Resume should be 1 or 2 pages max.</h3></li>\n",
    "<li><h3>Don't include a photo unless you are asked to in the job posting.</h3></li>\n",
    "    <li><h3>Send it in PDF.</h3></li>\n",
    "</ul>"
   ]
  },
  {
   "cell_type": "markdown",
   "metadata": {},
   "source": [
    "<b>Resources:</b>\n",
    "> - [Grammarly](https://www.grammarly.com)\n",
    "> - [15 frases para entrevistas de trabajo en inglés](https://platzi.com/blog/frases-entrevistas-trabajo-ingles/)\n",
    "> - [Most powerful words to use during your interview](https://www.thebalancecareers.com/powerful-words-for-job-interviews-4123781)\n",
    "> - [Useful phrases for a job interview - EF](https://www.ef.com/wwen/blog/language/useful-phrases-for-a-job-interview/)\n",
    "> - [List of positive adjetives when you apply for jobs - ESOL](https://www.esolcourses.com/content/englishforwork/jobvocab/job-interview-positive-personality-adjectives.html)\n",
    "---"
   ]
  },
  {
   "cell_type": "markdown",
   "metadata": {},
   "source": [
    "<div class=\"alert alert-block alert-info\">\n",
    "    <h2><b>Cover letter</b></h2>\n",
    "</div>\n",
    "\n",
    "### Half of recruiters won't look at your resume if it don't have a cover letter attached to it.\n",
    "\n",
    "### A cover letter it's a 1 page document that persuades the hiring manager to read it."
   ]
  },
  {
   "cell_type": "markdown",
   "metadata": {},
   "source": [
    "<div class=\"alert alert-block alert-warning\">\n",
    "    <h2><b>Include:</b></h2>\n",
    "</div>\n",
    "<ul>\n",
    "    <li><h3>Your personal information, contact details and date when you're sending the letter.</h3></li>\n",
    "    <li><h3>Recipient's name and address, also maybe the title and company name.</h3></li>\n",
    "    <li><h3>Profesional greeting.</h3></li>\n",
    "    <li><h3>Opening paragraph, including your top skills.</h3></li>\n",
    "    <li><h3>Include why you are the right person for the job and why the company is right for you.</h3></li>\n",
    "    <li><h3>Conclusion with a call to action. Like:</h3>\n",
    "        <ul>\n",
    "            <b>'I look forward to discussing any particular job openings at your company.'</b>\n",
    "        </ul></li>\n",
    "    <li><h3>Complimentary closing and your signature.</h3></li>\n",
    "</ul>\n",
    "\n",
    ">> - You can consult in _General resources_ the example of a cover letter I've attached for you."
   ]
  },
  {
   "cell_type": "markdown",
   "metadata": {},
   "source": [
    "<div class=\"alert alert-block alert-success\">\n",
    "    <h1><b>LinkedIn</b></h1>\n",
    "</div>\n",
    "\n",
    "> ## 1. Have a profesional profile photo and using a cover photo that has to do with your field.\n",
    "> ## 2. Having a descriptive but short headline\n",
    "> ## 3. Including your professional summary. Skills or strenghts as a list or  points\n",
    "> ## 4. Highlighting projects and content you have created\n",
    "> ## 5. Select your strongest skills. The ones which you want to work on.\n",
    "> ## 6. Expand your network and be present.\n",
    ">> - Friends, bosses, colleages.\n",
    ">> - Congratulate your contacts, for promotion and birthdays.\n",
    "> ## 7. Share relevant content. Creation of blogs, relevant content in news feed.\n",
    "> ## 8. Have a persionalized URL with your name and last name.\n",
    "\n",
    "## Adition:\n",
    "> ### - Certifications.\n",
    "> ### - Personal proyects.\n",
    "\n",
    "<b>Resources:</b>\n",
    "> - [20 steps to a better LinkedIn profile](https://business.linkedin.com/en-uk/marketing-solutions/blog/posts/content-marketing/2017/17-steps-to-a-better-LinkedIn-profile-in-2017)\n",
    "---"
   ]
  },
  {
   "cell_type": "markdown",
   "metadata": {},
   "source": [
    "<div class=\"alert alert-block alert-success\">\n",
    "    <h1><b>How to prepare for the interview.</b></h1>\n",
    "</div>\n",
    "\n",
    "- Research about the company.\n",
    "> - Website. Their values, mision.\n",
    "> - Social media\n",
    "> - News.\n",
    "\n",
    "- Review job description.\n",
    "> - Requirements\n",
    "> - Skills\n",
    "> - Responsabilities\n",
    "This will help you to think about your answers to posible or common questions.\n",
    "\n",
    "- Check the interviewer's profile.\n",
    "\n",
    "- Anticipate possible questions and practice answering questions.\n",
    "\n",
    "- Write down any questions that you might have for the interviewer.\n",
    "> - Things that you would like to know.\n",
    "\n",
    "- **Sleep well the night before the interview.**"
   ]
  },
  {
   "cell_type": "markdown",
   "metadata": {},
   "source": [
    "<div class=\"alert alert-block alert-danger\">\n",
    "    <h1>Types of interviews.</h1>\n",
    "</div>"
   ]
  },
  {
   "cell_type": "markdown",
   "metadata": {},
   "source": [
    "<div class=\"alert alert-block alert-warning\">\n",
    "    <h1>Vocabulary.</h1>\n",
    "</div>\n",
    "\n",
    "<b>Advantages:</b> features that make something better than other things, and a condition that is more favorable and could give more possibilities to have a positive experience and success.\n",
    "\n",
    "<b>Disadvantages:</b> the opposite of advantages; a disadvantage is an unfavorable position or condition.\n",
    "\n",
    "<b>Face to face Interview:</b> an interview in which you talk directly to your interviewer in the same place, not by phone or online.\n",
    "\n",
    "<b>Online Interview:</b> an interview in which the interviewer and interviewee connect through an online platform.\n",
    "\n",
    "<b>Phone Interview:</b> an interview which is done over the phone..\n",
    "\n",
    "<b>Requirements:</b> something that is wanted or needed, it could also be a necessary condition.\n",
    "\n",
    "<b>Soft solid colors:</b> a color that has muted chroma, that was greyed, softened, or lightened, which has no patterns; a solid color is having the same color all over.\n",
    "\n",
    "<b>Technical Interview:</b> an interview to test technical abilities and knowledge for a job. Usually if you apply for a job in engineering, science, or IT you may face a technical interview.\n"
   ]
  },
  {
   "cell_type": "markdown",
   "metadata": {},
   "source": [
    "<div class=\"alert alert-block alert-success\">\n",
    "    <h1><b>What should i consider in an online or phone interview?</b></h1>\n",
    "</div>\n",
    "\n",
    "Advantages:\n",
    "\n",
    "You save time and money. you don't have to go to the interview venue.\n",
    "\n",
    "You might feel more confortable.\n",
    "> - You can be at home or some place you already know.\n",
    "\n",
    "You can have more interviews with international companies.\n",
    "\n",
    "\n",
    "Disadvantages:\n",
    "\n",
    "They are more impersonal than face to face interviews\n",
    "\n",
    "There could be some issues regarding the internet speed.\n",
    "\n",
    "You might not have enough time to expand your answers\n",
    "> - Like in a face to face interview, that it's more like a conversation.\n",
    "\n",
    "If it's a phone interview you could:\n",
    "> - Have issues with the call.\n",
    "> - Incomings calls and messages (that could distract you).\n",
    "\n"
   ]
  },
  {
   "cell_type": "markdown",
   "metadata": {},
   "source": [
    "<div class=\"alert alert-block alert-info\">\n",
    "    <h2><b>Tools for online interviews.</b></h2>\n",
    "</div>\n",
    "\n",
    "> <ol>\n",
    "    <li> A laptop or desktop computer.</li>\n",
    "    <li> Webcam.</li>\n",
    "    <li> Headphones with a built-in microphone.</li>\n",
    "    <li> Good internet conection. It's highly recommended that you have at least 5 Mps.</li>\n",
    "</ol>\n",
    "\n",
    "\n",
    "<div class=\"alert alert-block alert-info\">\n",
    "    <h2><b>Tips.</b></h2>\n",
    "</div>\n",
    "\n",
    "<ul>\n",
    "    <li><b> Make sure you have the link for the interview.</b></li>\n",
    "    <li> Sit in a quiet place, you'll need:\n",
    "        <ol>\n",
    "            <li> Privacy.</li>\n",
    "            <li> No external noises.</li>\n",
    "            <li> Good lighting.</li>\n",
    "        </ol>\n",
    "    </li>\n",
    "    <li> Connect to the internet using a cable. (It's more stable)</li>\n",
    "    <li> Test your audio and video settings.</li>\n",
    "    <li><b> Be on time.</b></li>\n",
    "    <li><b> Dress professionally, use soft solid colors.</b></li>\n",
    "    <li> Have a neutral background.</li>\n",
    "    <li> Have a printed copy of your resume, just in case you need to take a look or something you want to remember during the interview and maybe some notes.</li>\n",
    "    <li> Close any unnecessary web browser tabs and apps.</li>\n",
    "    <li><b> Place your phone in silent mode, don't be distracted and show respect.</b></li>\n",
    "    <li><b> Be calm.</b></li>\n",
    "    <li> Keep eye contact (look directly at the camera).</li>\n",
    "    <li> Don't excuse yourself on not having used the tool before!</li>\n",
    "    <li> Nod to show you are engaged while you are actively listening.</li>\n",
    "    <li><b> Don't interrupt your interviewer.</b></li>\n",
    "    <li> Speak clearly and confidently. Try to sem calm during the interview.</li>\n",
    "    <li> When appropiate use hand gestures and smile.</li>\n",
    "    <li> If it's a phone interview, work on your tone of voice.</li>\n",
    "    <li><b> Remember to thank the interviewer for his or her time.</b></li>\n",
    "</ul>\n",
    "\n",
    "---"
   ]
  },
  {
   "cell_type": "markdown",
   "metadata": {},
   "source": [
    "<div class=\"alert alert-block alert-success\">\n",
    "    <h1><b>What should i consider in an online or phone interview?</b></h1>\n",
    "</div>\n",
    "\n",
    "Advantages:\n",
    "- More personal contact\n",
    "- You can expand your answers freely\n",
    "- You might get the opportunity to see the ofices and get an idea of the work envirorment\n",
    "\n",
    "\n",
    "Disadvantages:\n",
    "- You need more time and money.\n",
    "> A couple of days before, measure how much time it takes you to get to that venue, so that you are on time or a little early.\n",
    "- You have to think more about your language and facial expressions.\n",
    "- If you are introvert, you might not feel as comfortable as in an online or phone interview."
   ]
  },
  {
   "cell_type": "markdown",
   "metadata": {},
   "source": [
    "Tips:\n",
    "\n",
    "Make sure you have the address and the name of your interviewer.\n",
    "Taked a printed copy of your resume.\n",
    "Arrive early. (at least 10 minutes before)\n",
    "Dress professionally.\n",
    "Shake hands **firmly**.\n",
    "Avoid looking around the room.\n",
    "sit upright and show interest.\n",
    "Listen actively.\n",
    "Make eye contact.\n",
    "Smile when appropiate.\n",
    "Speak clearly and confident.\n",
    "Answer what you are asked, do not stray away from the question.\n",
    "Don't interrupt your interviewer.\n",
    "Be genuine.\n",
    "Be polite.\n",
    "Remember to thank the interviewer."
   ]
  },
  {
   "cell_type": "markdown",
   "metadata": {},
   "source": []
  },
  {
   "cell_type": "markdown",
   "metadata": {},
   "source": []
  },
  {
   "cell_type": "markdown",
   "metadata": {},
   "source": []
  },
  {
   "cell_type": "markdown",
   "metadata": {},
   "source": []
  },
  {
   "cell_type": "markdown",
   "metadata": {},
   "source": []
  },
  {
   "cell_type": "markdown",
   "metadata": {},
   "source": []
  },
  {
   "cell_type": "markdown",
   "metadata": {},
   "source": []
  },
  {
   "cell_type": "markdown",
   "metadata": {},
   "source": []
  },
  {
   "cell_type": "markdown",
   "metadata": {},
   "source": []
  },
  {
   "cell_type": "markdown",
   "metadata": {},
   "source": []
  },
  {
   "cell_type": "markdown",
   "metadata": {},
   "source": []
  },
  {
   "cell_type": "markdown",
   "metadata": {},
   "source": []
  },
  {
   "cell_type": "markdown",
   "metadata": {},
   "source": []
  },
  {
   "cell_type": "markdown",
   "metadata": {},
   "source": []
  },
  {
   "cell_type": "markdown",
   "metadata": {},
   "source": []
  },
  {
   "cell_type": "markdown",
   "metadata": {},
   "source": []
  },
  {
   "cell_type": "markdown",
   "metadata": {},
   "source": []
  },
  {
   "cell_type": "markdown",
   "metadata": {},
   "source": []
  },
  {
   "cell_type": "markdown",
   "metadata": {},
   "source": []
  },
  {
   "cell_type": "markdown",
   "metadata": {},
   "source": []
  },
  {
   "cell_type": "markdown",
   "metadata": {},
   "source": []
  },
  {
   "cell_type": "markdown",
   "metadata": {},
   "source": []
  },
  {
   "cell_type": "markdown",
   "metadata": {},
   "source": []
  },
  {
   "cell_type": "markdown",
   "metadata": {},
   "source": []
  },
  {
   "cell_type": "markdown",
   "metadata": {},
   "source": []
  },
  {
   "cell_type": "markdown",
   "metadata": {},
   "source": []
  },
  {
   "cell_type": "markdown",
   "metadata": {},
   "source": []
  },
  {
   "cell_type": "markdown",
   "metadata": {},
   "source": []
  },
  {
   "cell_type": "markdown",
   "metadata": {},
   "source": []
  },
  {
   "cell_type": "markdown",
   "metadata": {},
   "source": []
  },
  {
   "cell_type": "markdown",
   "metadata": {},
   "source": []
  },
  {
   "cell_type": "markdown",
   "metadata": {},
   "source": []
  },
  {
   "cell_type": "markdown",
   "metadata": {},
   "source": []
  },
  {
   "cell_type": "markdown",
   "metadata": {},
   "source": []
  },
  {
   "cell_type": "markdown",
   "metadata": {},
   "source": []
  }
 ],
 "metadata": {
  "kernelspec": {
   "display_name": "Python 3",
   "language": "python",
   "name": "python3"
  },
  "language_info": {
   "codemirror_mode": {
    "name": "ipython",
    "version": 3
   },
   "file_extension": ".py",
   "mimetype": "text/x-python",
   "name": "python",
   "nbconvert_exporter": "python",
   "pygments_lexer": "ipython3",
   "version": "3.7.7"
  }
 },
 "nbformat": 4,
 "nbformat_minor": 4
}
